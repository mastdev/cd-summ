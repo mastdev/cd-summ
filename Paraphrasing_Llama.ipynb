{
 "cells": [
  {
   "cell_type": "code",
   "execution_count": null,
   "metadata": {},
   "outputs": [],
   "source": [
    "# Testing HuggingFace pipeline directly, doesn't work without logging in before starting kernel\n",
    "import transformers\n",
    "import torch\n",
    "import time\n",
    "\n",
    "model_id = \"meta-llama/Meta-Llama-3-8B\"\n",
    "\n",
    "pipeline = transformers.pipeline(\"text-generation\", model=model_id, model_kwargs={\"torch_dtype\": torch.bfloat16}, device_map=\"auto\")\n",
    "pipeline(\"Hey how are you doing today?\")"
   ]
  },
  {
   "cell_type": "code",
   "execution_count": null,
   "metadata": {},
   "outputs": [],
   "source": [
    "#importing libraries and reading the train dataset\n",
    "import torch\n",
    "from transformers import BartForConditionalGeneration, BartTokenizer, Trainer, TrainingArguments\n",
    "from datasets import load_dataset, Dataset\n",
    "\n",
    "import pandas as pd\n",
    "import numpy as np\n",
    "import warnings\n",
    "\n",
    "from tqdm import tqdm\n",
    "\n",
    "traindf = pd.read_csv('./technology_train.csv')"
   ]
  },
  {
   "cell_type": "code",
   "execution_count": null,
   "metadata": {},
   "outputs": [
    {
     "name": "stderr",
     "output_type": "stream",
     "text": [
      "Loading checkpoint shards: 100%|██████████| 2/2 [00:56<00:00, 28.50s/it]\n"
     ]
    }
   ],
   "source": [
    "#Using LLaMa 3.2 Instruct with 3 Billion parameters for our experiments\n",
    "\n",
    "import torch\n",
    "from transformers import pipeline\n",
    "\n",
    "model_id = \"meta-llama/Llama-3.2-3B-Instruct\"\n",
    "pipe = pipeline(\n",
    "    \"text-generation\",\n",
    "    model=model_id,\n",
    "    torch_dtype=torch.bfloat16,\n",
    "    device_map=\"auto\",\n",
    ")"
   ]
  },
  {
   "cell_type": "code",
   "execution_count": null,
   "metadata": {},
   "outputs": [],
   "source": [
    "import random\n",
    "\n",
    "# Function to randomly select a sentence in paragraph\n",
    "def select_random_line(paragraph):\n",
    "    lines = paragraph.splitlines()\n",
    "    lines = [line for line in lines if line.strip()]\n",
    "    if lines:\n",
    "        return random.choice(lines)\n",
    "    else:\n",
    "        return None"
   ]
  },
  {
   "cell_type": "code",
   "execution_count": null,
   "metadata": {},
   "outputs": [
    {
     "data": {
      "text/plain": [
       "'There are two traditional views of how Americans can be happiest in retirement. In one, they retrofit their homes with grab bars and wheelchair-accessible bathrooms and \"age in place\" while maintaining long-time community, church and family ties. In the other, they say farewell to friends and frigid winters and head off to Florida or Sun City for a life of leisurely golf and bridge games.\\n\\nBut a new study from the Center for Retirement Research at Boston College suggests there is another road that leads to happiness. Older Americans who move are somewhat happier and wealthier than those who stay put, but most of their moves are short-distance ones--some made as part of a retirement plan and some in response to a shock, such as being widowed or divorced, the study found.\\n\\nDespite their differing circumstances, both groups ended up with at least modest gains in happiness from the move. Those who moved after a shock were a little less unhappy than old folks in comparable circumstances who stayed put. Those who executed a planned move were happier than their less mobile planner peers.\\n\\nThe findings dispel the notion that staying put in a long-time home maximizes the psychological well-being of older adults, says Kelly Haverstick, a research economist at the center. \"I was personally surprised.\"\\n\\nThe findings are, however, consistent with a broader definition of aging in place. Most of the older folks\\' moves were short distance, suggesting that maybe downsizing to a more manageable residence, but staying in your community surrounded by family and friends, is the key to happily aging in place.\\n\\nIn their report, Haverstick and her co-authors used data from the University of Michigan\\'s national Health and Retirement Study to examine the habits of folks born between 1931 and 1941. They were tracked over a 12-year period from 1992 to 2004. That means the individuals were aged 51-61 the first year studied, and were aged 63-73 during the last year.\\n\\nNearly a third (30%) of homeowners moved at least once over the 12-year period, while in any two-year period, 7% of homeowners moved. But 60% the moves were short-distance ones of less than 20 miles, while only 21% of moves were for more than 200 miles.\\n\\nThe statistics show small net outflows from New England and the North Central regions along with larger net inflows into the South Atlantic (including Florida) and the Mountain regions (including Arizona) but no large-scale migration from the Frost Belt to the Sun Belt.\\n\\nSurprisingly, the report found that a move for traditional retirement reasons (for example, seeking a warmer climate or leisure) ranked only fourth on the list of reasons folks gave for moving. Of the movers, 28% moved for family reasons (to be near children or to care for an older relative, for example); 22% moved because of financial stress; 21% moved to upgrade to a better house and/or location; and 16% moved for traditional retirement reasons.\\n\\nLastly, the report looks at whether households making a move choose to continue being homeowners. Here there is a big difference between seniors who have faced shocks and those who had the luxury to plan their moves. It turns out that 33% of homeowners who moved after shocks became renters or moved in with relatives. (For advice, see \"How to Set Up a Multi-Generation Household.\") Only 18% of movers who hadn\\'t suffered a shock discontinued homeownership.\\n\\nMoving also affected the average change in home equity for the various groups. Those who didn\\'t move, whether or not they faced shocks, saw an average increase in home equity of $12,000. Those who moved after a shock saw a decline in home equity of $26,000. Those who moved according to a plan invested more in their homes, with an average increase in home equity of $33,000.'"
      ]
     },
     "metadata": {},
     "output_type": "display_data"
    }
   ],
   "source": [
    "# Sample Input Text\n",
    "traindf['text'][0]"
   ]
  },
  {
   "cell_type": "code",
   "execution_count": null,
   "metadata": {},
   "outputs": [
    {
     "name": "stderr",
     "output_type": "stream",
     "text": [
      "Setting `pad_token_id` to `eos_token_id`:None for open-end generation.\n"
     ]
    },
    {
     "data": {
      "text/plain": [
       "'\"Unpacking the Great American Move: How Sports Can Relate to the Nation\\'s Migration Patterns\"\\n\\nIn a recent study, it was revealed that nearly a third of American homeowners made at least one move over the past 12 years, with a staggering 7% of them making multiple moves within any two-year span. This staggering data has left many to wonder: what\\'s behind the great American move? As we delve into the world of sports, we\\'ll explore some unexpected parallels between the nation\\'s migration patterns and the world of athletics.\\n\\nOne striking similarity is the concept of \"short-distance\" moves, where 60% of all relocations were within a 20-mile radius. This phenomenon is eerily reminiscent of the \"short-game\" mentality in golf, where a well-placed chip shot or a precise bunker shot can make all the difference in a game. Just as a skilled golfer can make a significant impact on the course without leaving the fairway, many homeowners can find new opportunities and improve their quality of life without straying far from their current location.\\n\\nOn the other hand, the 21% of moves that exceeded 200 miles can be likened to the high-stakes, long-distance migrations that occur in the world of professional sports. Think of the NFL\\'s annual Super Bowl migration, where teams travel thousands of miles to compete for the championship. Similarly, many homeowners who make long-distance moves are often driven by a desire to escape the monotony of their daily routine or to pursue new opportunities that lie beyond their current horizon.\\n\\nAnother interesting aspect of the study is the phenomenon of \"multiple moves\" within a short period. This trend is similar to the \"in-and-out\" mentality that is common in sports like tennis and boxing. These athletes often need to constantly adapt to new environments, opponents, and strategies in order to stay ahead of the competition. Similarly, homeowners who make multiple moves within a short period may be seeking new challenges, fresh starts, or a change of scenery that will help them grow and thrive.\\n\\nThe study\\'s findings also highlight the importance of \"distance\" in shaping our experiences and perceptions. Just as a golfer\\'s shot distance can greatly impact their score, a homeowner\\'s distance from their current location can significantly influence their quality of life. For example, a person living in a densely populated urban area may feel a sense of confinement, while someone living in a rural area may feel a sense of freedom.\\n\\nIn conclusion, the great American move is a'"
      ]
     },
     "metadata": {},
     "output_type": "display_data"
    }
   ],
   "source": [
    "# Paraphrasing Sample Input Text in Technology Domain to Sprts Domain\n",
    "messages = [\n",
    "        {\"role\": \"system\", \"content\": \"You are a sports reporter for ESPN, and you write about the latest sports from the world of sports. All of your content is completely new, and you should not write content you have ever read before.\"},\n",
    "        {\"role\": \"user\", \"content\": \"Write an imaginary 330 word article on sports, incorporating the following words: \"+select_random_line(traindf['text'][0])}\n",
    "    ]\n",
    "outputs = pipe(\n",
    "    messages,\n",
    "    max_new_tokens=500,\n",
    ")\n",
    "op = outputs[0][\"generated_text\"][-1]['content']\n",
    "op"
   ]
  },
  {
   "cell_type": "markdown",
   "metadata": {},
   "source": [
    "#### Paraphrasing to Food Target Domain"
   ]
  },
  {
   "cell_type": "code",
   "execution_count": null,
   "metadata": {},
   "outputs": [],
   "source": [
    "# Running a loop over two thousand samples for paraphrasing due to compute constraints\n",
    "start = time.time()\n",
    "ops = []\n",
    "opssumm = []\n",
    "\n",
    "for i in range(2000):\n",
    "    print(f\"{i}/2000\")\n",
    "\n",
    "    messages = [\n",
    "        {\"role\": \"system\", \"content\": \"You are a food reporter for TLC, and you write about the latest restaurants and food reviews and culinary events. All of your content is completely new, and you should not write content you have ever read before.\"},\n",
    "        {\"role\": \"user\", \"content\": \"Write a 330 word food or culinary news article, incorporating the following word: \"+select_random_line(traindf['text'][i])},\n",
    "    ]\n",
    "    outputs = pipe(\n",
    "        messages,\n",
    "        max_new_tokens=500,\n",
    "    )\n",
    "    op = outputs[0][\"generated_text\"][-1]['content']\n",
    "    ops.append(op)\n",
    "\n",
    "    messagessumm = [\n",
    "        {\"role\": \"system\", \"content\": \"Summarize the given text in a single sentence under 20 words: \"+op},\n",
    "        {\"role\": \"user\", \"content\": \"Summarize the given text in a single sentence under 20 words: \"+op},\n",
    "    ]\n",
    "    outputssumm = pipe(\n",
    "        messagessumm,\n",
    "        max_new_tokens=25,\n",
    "    )\n",
    "    opsumm = outputssumm[0][\"generated_text\"][-1]['content']\n",
    "    opssumm.append(opsumm)\n",
    "\n",
    "end = time.time()\n",
    "print(end - start)\n"
   ]
  },
  {
   "cell_type": "code",
   "execution_count": null,
   "metadata": {},
   "outputs": [],
   "source": [
    "dffood = pd.DataFrame({'text': ops, 'summary': opssumm})\n",
    "dffood.to_csv(\"food-aug.csv\")"
   ]
  },
  {
   "cell_type": "markdown",
   "metadata": {},
   "source": [
    "#### Paraphrasing to Sports Target Domain"
   ]
  },
  {
   "cell_type": "code",
   "execution_count": null,
   "metadata": {},
   "outputs": [],
   "source": [
    "# Running a loop over two thousand samples for paraphrasing due to compute constraints\n",
    "start = time.time()\n",
    "ops = []\n",
    "opssumm = []\n",
    "\n",
    "for i in range(2000):\n",
    "    print(f\"{i}/2000\")\n",
    "\n",
    "    messages = [\n",
    "        {\"role\": \"system\", \"content\": \"You are a sports reporter for ESPN, and you write about the latest sports from the world of sports. All of your content is completely new, and you should not write content you have ever read before.\"},\n",
    "        {\"role\": \"user\", \"content\": \"Write an imaginary 330 word article on sports, incorporating the following words: \"+select_random_line(traindf['text'][i])}\n",
    "    ]\n",
    "    outputs = pipe(\n",
    "        messages,\n",
    "        max_new_tokens=500,\n",
    "    )\n",
    "    op = outputs[0][\"generated_text\"][-1]['content']\n",
    "    ops.append(op)\n",
    "\n",
    "    messagessumm = [\n",
    "        {\"role\": \"system\", \"content\": \"Summarize the given text in a single sentence under 20 words: \"+op},\n",
    "        {\"role\": \"user\", \"content\": \"Summarize the given text in a single sentence under 20 words: \"+op},\n",
    "    ]\n",
    "    outputssumm = pipe(\n",
    "        messagessumm,\n",
    "        max_new_tokens=25,\n",
    "    )\n",
    "    opsumm = outputssumm[0][\"generated_text\"][-1]['content']\n",
    "    opssumm.append(opsumm)\n",
    "\n",
    "end = time.time()\n",
    "print(end - start)\n"
   ]
  },
  {
   "cell_type": "code",
   "execution_count": null,
   "metadata": {},
   "outputs": [],
   "source": [
    "dfsports = pd.DataFrame({'text': ops, 'summary': opssumm})\n",
    "dfsports.to_csv(\"sports-aug.csv\")"
   ]
  },
  {
   "cell_type": "markdown",
   "metadata": {},
   "source": [
    "#### Paraphrasing to Architecture Target Domain"
   ]
  },
  {
   "cell_type": "code",
   "execution_count": null,
   "metadata": {},
   "outputs": [],
   "source": [
    "# Running a loop over two thousand samples for paraphrasing due to compute constraints\n",
    "start = time.time()\n",
    "ops = []\n",
    "opssumm = []\n",
    "\n",
    "for i in range(2000):\n",
    "    print(f\"{i}/2000\")\n",
    "\n",
    "    messages = [\n",
    "        {\"role\": \"system\", \"content\": \"You are an expert architectural journalist who writes imaginative and engaging content about modern and classical architecture. Ensure all your content is original, creative, and avoids using information from existing sources.\"},\n",
    "        {\"role\": \"user\", \"content\": \"Write an imaginary 330-word article on architecture, incorporating the following words: \" + select_random_line(traindf['text'][i])}\n",
    "    ]\n",
    "    outputs = pipe(\n",
    "        messages,\n",
    "        max_new_tokens=500,\n",
    "    )\n",
    "    op = outputs[0][\"generated_text\"][-1]['content']\n",
    "    ops.append(op)\n",
    "\n",
    "    messagessumm = [\n",
    "        {\"role\": \"system\", \"content\": \"Summarize the given text in a single sentence under 20 words: \"+op},\n",
    "        {\"role\": \"user\", \"content\": \"Summarize the given text in a single sentence under 20 words: \"+op},\n",
    "    ]\n",
    "    outputssumm = pipe(\n",
    "        messagessumm,\n",
    "        max_new_tokens=25,\n",
    "    )\n",
    "    opsumm = outputssumm[0][\"generated_text\"][-1]['content']\n",
    "    opssumm.append(opsumm)\n",
    "\n",
    "end = time.time()\n",
    "print(end - start)\n"
   ]
  },
  {
   "cell_type": "code",
   "execution_count": null,
   "metadata": {},
   "outputs": [],
   "source": [
    "dfarch = pd.DataFrame({'text': ops, 'summary': opssumm})\n",
    "dfarch.to_csv(\"arch-aug.csv\")"
   ]
  },
  {
   "cell_type": "markdown",
   "metadata": {},
   "source": [
    "#### Paraphrasing to Entertainment Target Domain"
   ]
  },
  {
   "cell_type": "code",
   "execution_count": null,
   "metadata": {},
   "outputs": [],
   "source": [
    "# Running a loop over two thousand samples for paraphrasing due to compute constraints\n",
    "start = time.time()\n",
    "ops = []\n",
    "opssumm = []\n",
    "\n",
    "for i in range(2000):\n",
    "    print(f\"{i}/2000\")\n",
    "\n",
    "    messages = [\n",
    "        {\"role\": \"system\", \"content\": \"You are an entertainment journalist who writes captivating and imaginative articles about movies, TV shows, celebrities, and pop culture. All your content should be original, creative, and not derived from existing sources.\"},\n",
    "        {\"role\": \"user\", \"content\": \"Write an imaginary 330-word article on entertainment, incorporating the following words: \" + select_random_line(traindf['text'][i])}\n",
    "    ]\n",
    "    outputs = pipe(\n",
    "        messages,\n",
    "        max_new_tokens=500,\n",
    "    )\n",
    "    op = outputs[0][\"generated_text\"][-1]['content']\n",
    "    ops.append(op)\n",
    "\n",
    "    messagessumm = [\n",
    "        {\"role\": \"system\", \"content\": \"Summarize the given text in a single sentence under 20 words: \"+op},\n",
    "        {\"role\": \"user\", \"content\": \"Summarize the given text in a single sentence under 20 words: \"+op},\n",
    "    ]\n",
    "    outputssumm = pipe(\n",
    "        messagessumm,\n",
    "        max_new_tokens=25,\n",
    "    )\n",
    "    opsumm = outputssumm[0][\"generated_text\"][-1]['content']\n",
    "    opssumm.append(opsumm)\n",
    "\n",
    "end = time.time()\n",
    "print(end - start)\n"
   ]
  },
  {
   "cell_type": "code",
   "execution_count": null,
   "metadata": {},
   "outputs": [],
   "source": [
    "dfent = pd.DataFrame({'text': ops, 'summary': opssumm})\n",
    "dfent.to_csv(\"ent-aug.csv\")"
   ]
  }
 ],
 "metadata": {
  "language_info": {
   "name": "python"
  }
 },
 "nbformat": 4,
 "nbformat_minor": 2
}
