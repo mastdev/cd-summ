{
 "cells": [
  {
   "cell_type": "code",
   "execution_count": null,
   "metadata": {},
   "outputs": [],
   "source": [
    "#importing libraries\n",
    "\n",
    "import torch\n",
    "from transformers import BartForConditionalGeneration, BartTokenizer, Trainer, TrainingArguments\n",
    "from datasets import load_dataset, Dataset\n",
    "\n",
    "import pandas as pd\n",
    "import numpy as np\n",
    "import warnings\n",
    "\n",
    "from tqdm import tqdm\n",
    "warnings.filterwarnings(\"ignore\")"
   ]
  },
  {
   "cell_type": "code",
   "execution_count": null,
   "metadata": {},
   "outputs": [],
   "source": [
    "# Loading Technology Train Data\n",
    "df = pd.read_csv('/storage/ice1/6/4/tchavan3/technology_train.csv')"
   ]
  },
  {
   "cell_type": "code",
   "execution_count": null,
   "metadata": {},
   "outputs": [],
   "source": [
    "# Using the BART tokenizer\n",
    "\n",
    "tokenizer = BartTokenizer.from_pretrained('facebook/bart-large')\n",
    "\n",
    "# Preprocess the input and output text\n",
    "def preprocess_function(examples):\n",
    "    inputs = tokenizer(examples['text'], max_length=1024, truncation=True, padding='max_length')\n",
    "    labels = tokenizer(examples['summary'], max_length=128, truncation=True, padding='max_length')\n",
    "\n",
    "    # Set labels for training\n",
    "    inputs['labels'] = labels['input_ids']\n",
    "    return inputs"
   ]
  },
  {
   "cell_type": "code",
   "execution_count": null,
   "metadata": {},
   "outputs": [],
   "source": [
    "# Loading the paraphrased datasets\n",
    "\n",
    "df_food = pd.read_csv('./food-aug.csv')\n",
    "df_sports = pd.read_csv('./sports-aug.csv')\n",
    "df_entertainment = pd.read_csv('./ent-aug.csv')\n",
    "df_architecture = pd.read_csv('./arch-aug.csv')"
   ]
  },
  {
   "cell_type": "code",
   "execution_count": null,
   "metadata": {},
   "outputs": [
    {
     "data": {
      "text/html": [
       "<div>\n",
       "<style scoped>\n",
       "    .dataframe tbody tr th:only-of-type {\n",
       "        vertical-align: middle;\n",
       "    }\n",
       "\n",
       "    .dataframe tbody tr th {\n",
       "        vertical-align: top;\n",
       "    }\n",
       "\n",
       "    .dataframe thead th {\n",
       "        text-align: right;\n",
       "    }\n",
       "</style>\n",
       "<table border=\"1\" class=\"dataframe\">\n",
       "  <thead>\n",
       "    <tr style=\"text-align: right;\">\n",
       "      <th></th>\n",
       "      <th>text</th>\n",
       "      <th>summary</th>\n",
       "    </tr>\n",
       "  </thead>\n",
       "  <tbody>\n",
       "    <tr>\n",
       "      <th>0</th>\n",
       "      <td>**\"Taste of the Past: Revival of Classic Briti...</td>\n",
       "      <td>Traditional British cuisine is experiencing a ...</td>\n",
       "    </tr>\n",
       "    <tr>\n",
       "      <th>1</th>\n",
       "      <td>**Federal Regulations Set to Revolutionize Ame...</td>\n",
       "      <td>Federal regulations aim to reduce food waste a...</td>\n",
       "    </tr>\n",
       "    <tr>\n",
       "      <th>2</th>\n",
       "      <td>**Sustainable Seafood: A Growing Concern for C...</td>\n",
       "      <td>Coastal communities face unprecedented pressur...</td>\n",
       "    </tr>\n",
       "    <tr>\n",
       "      <th>3</th>\n",
       "      <td>\"Foodies on the Move: The Rise of Plant-Based ...</td>\n",
       "      <td>Plant-based cuisine is revolutionizing the foo...</td>\n",
       "    </tr>\n",
       "    <tr>\n",
       "      <th>4</th>\n",
       "      <td>**\"Revolutionizing the World of Fruit: The Ris...</td>\n",
       "      <td>Apple's versatility is revolutionizing the cul...</td>\n",
       "    </tr>\n",
       "    <tr>\n",
       "      <th>...</th>\n",
       "      <td>...</td>\n",
       "      <td>...</td>\n",
       "    </tr>\n",
       "    <tr>\n",
       "      <th>53973</th>\n",
       "      <td>Perhaps Microsoft has finally gotten a little ...</td>\n",
       "      <td>...</td>\n",
       "    </tr>\n",
       "    <tr>\n",
       "      <th>53974</th>\n",
       "      <td>Microsoft today released updates to fix at lea...</td>\n",
       "      <td>...</td>\n",
       "    </tr>\n",
       "    <tr>\n",
       "      <th>53975</th>\n",
       "      <td>Microsoft today issued software updates to fix...</td>\n",
       "      <td>The latest news on computer, technology and ne...</td>\n",
       "    </tr>\n",
       "    <tr>\n",
       "      <th>53976</th>\n",
       "      <td>Vote: Abolish Middle-East \"THEOCRACY &amp; MONARCH...</td>\n",
       "      <td>Need to Know - PostGlobal on PostGlobal; blog ...</td>\n",
       "    </tr>\n",
       "    <tr>\n",
       "      <th>53977</th>\n",
       "      <td>Four years ago this morning, the French newspa...</td>\n",
       "      <td>The latest opinion and commentary on news arou...</td>\n",
       "    </tr>\n",
       "  </tbody>\n",
       "</table>\n",
       "<p>53978 rows × 2 columns</p>\n",
       "</div>"
      ],
      "text/plain": [
       "                                                    text  \\\n",
       "0      **\"Taste of the Past: Revival of Classic Briti...   \n",
       "1      **Federal Regulations Set to Revolutionize Ame...   \n",
       "2      **Sustainable Seafood: A Growing Concern for C...   \n",
       "3      \"Foodies on the Move: The Rise of Plant-Based ...   \n",
       "4      **\"Revolutionizing the World of Fruit: The Ris...   \n",
       "...                                                  ...   \n",
       "53973  Perhaps Microsoft has finally gotten a little ...   \n",
       "53974  Microsoft today released updates to fix at lea...   \n",
       "53975  Microsoft today issued software updates to fix...   \n",
       "53976  Vote: Abolish Middle-East \"THEOCRACY & MONARCH...   \n",
       "53977  Four years ago this morning, the French newspa...   \n",
       "\n",
       "                                                 summary  \n",
       "0      Traditional British cuisine is experiencing a ...  \n",
       "1      Federal regulations aim to reduce food waste a...  \n",
       "2      Coastal communities face unprecedented pressur...  \n",
       "3      Plant-based cuisine is revolutionizing the foo...  \n",
       "4      Apple's versatility is revolutionizing the cul...  \n",
       "...                                                  ...  \n",
       "53973                                                ...  \n",
       "53974                                                ...  \n",
       "53975  The latest news on computer, technology and ne...  \n",
       "53976  Need to Know - PostGlobal on PostGlobal; blog ...  \n",
       "53977  The latest opinion and commentary on news arou...  \n",
       "\n",
       "[53978 rows x 2 columns]"
      ]
     },
     "metadata": {},
     "output_type": "display_data"
    }
   ],
   "source": [
    "#getting a combined dataset\n",
    "\n",
    "result = pd.concat([df_food[['text', 'summary']], df_sports[['text', 'summary']], df_entertainment[['text', 'summary']], df_architecture[['text', 'summary']], df[['text', 'summary']]], ignore_index=True)\n",
    "result"
   ]
  },
  {
   "cell_type": "code",
   "execution_count": null,
   "metadata": {},
   "outputs": [
    {
     "name": "stderr",
     "output_type": "stream",
     "text": [
      "Map: 100%|██████████| 53978/53978 [02:25<00:00, 371.73 examples/s]\n"
     ]
    }
   ],
   "source": [
    "from datasets import Dataset\n",
    "\n",
    "# Convert pandas DataFrame to Hugging Face Dataset\n",
    "hf_dataset = Dataset.from_pandas(result)\n",
    "\n",
    "# Tokenize the dataset\n",
    "tokenized_datasets = hf_dataset.map(preprocess_function, batched=True, remove_columns=[\"text\", \"summary\"])\n"
   ]
  },
  {
   "cell_type": "code",
   "execution_count": null,
   "metadata": {},
   "outputs": [],
   "source": [
    "#splitting the dataset 80-20 train test split\n",
    "\n",
    "from sklearn.model_selection import train_test_split\n",
    "train_test_split = tokenized_datasets.train_test_split(test_size=0.2)\n",
    "train_dataset = train_test_split['train']\n",
    "eval_dataset = train_test_split['test']"
   ]
  },
  {
   "cell_type": "code",
   "execution_count": null,
   "metadata": {},
   "outputs": [],
   "source": [
    "# We use the BART large dataset, loading it\n",
    "\n",
    "model = BartForConditionalGeneration.from_pretrained('facebook/bart-large')\n",
    "\n",
    "# Define training arguments\n",
    "training_args = TrainingArguments(\n",
    "    output_dir=\"./results_paraphrased/\",\n",
    "    evaluation_strategy=\"epoch\",\n",
    "    learning_rate=2e-5,\n",
    "    per_device_train_batch_size=16,\n",
    "    per_device_eval_batch_size=16,\n",
    "    num_train_epochs=5,\n",
    "    weight_decay=0.01,\n",
    "    save_strategy='epoch',    \n",
    ")\n"
   ]
  },
  {
   "cell_type": "code",
   "execution_count": null,
   "metadata": {},
   "outputs": [],
   "source": [
    "# Initialize the Trainer\n",
    "trainer = Trainer(\n",
    "    model=model,\n",
    "    args=training_args,\n",
    "    train_dataset=train_dataset,\n",
    "    eval_dataset=eval_dataset,  # 20% data for evaluation\n",
    ")\n",
    "\n",
    "# Train the model with a progress bar (tqdm is automatically included)\n",
    "trainer.train()"
   ]
  }
 ],
 "metadata": {
  "language_info": {
   "name": "python"
  }
 },
 "nbformat": 4,
 "nbformat_minor": 2
}
